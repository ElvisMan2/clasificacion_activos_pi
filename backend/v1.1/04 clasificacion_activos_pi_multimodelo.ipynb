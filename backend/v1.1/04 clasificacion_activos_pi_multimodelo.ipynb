{
 "cells": [
  {
   "cell_type": "code",
   "execution_count": null,
   "id": "db4d6657",
   "metadata": {},
   "outputs": [],
   "source": [
    "\n",
    "import pandas as pd\n",
    "import spacy\n",
    "from sklearn.model_selection import train_test_split\n",
    "from sklearn.feature_extraction.text import TfidfVectorizer\n",
    "from sklearn.svm import SVC\n",
    "from sklearn.ensemble import RandomForestClassifier\n",
    "from sklearn.linear_model import LogisticRegression\n",
    "from sklearn.metrics import classification_report, confusion_matrix, ConfusionMatrixDisplay\n",
    "import matplotlib.pyplot as plt\n",
    "import joblib\n"
   ]
  },
  {
   "cell_type": "code",
   "execution_count": null,
   "id": "1a6495c0",
   "metadata": {},
   "outputs": [],
   "source": [
    "\n",
    "# Cargar modelo de spaCy en español\n",
    "nlp = spacy.load(\"es_core_news_sm\")\n",
    "\n",
    "# Función para preprocesar texto\n",
    "def preprocesar(texto):\n",
    "    doc = nlp(texto.lower())\n",
    "    return \" \".join([token.lemma_ for token in doc if not token.is_stop and not token.is_punct])\n"
   ]
  },
  {
   "cell_type": "code",
   "execution_count": null,
   "id": "d3b9c29d",
   "metadata": {},
   "outputs": [],
   "source": [
    "\n",
    "# Leer archivo CSV y aplicar preprocesamiento\n",
    "df = pd.read_csv('./activos_pi_2.csv', encoding='latin1')\n",
    "df[\"descripcion\"] = df[\"descripcion\"].apply(preprocesar)\n",
    "\n",
    "# División del dataset\n",
    "X_train, X_test, y_train, y_test = train_test_split(df[\"descripcion\"], df[\"categoria\"], test_size=0.2, random_state=42)\n",
    "\n",
    "# Vectorización TF-IDF\n",
    "vectorizer = TfidfVectorizer()\n",
    "X_train_tfidf = vectorizer.fit_transform(X_train)\n",
    "X_test_tfidf = vectorizer.transform(X_test)\n"
   ]
  },
  {
   "cell_type": "code",
   "execution_count": null,
   "id": "93b9a958",
   "metadata": {},
   "outputs": [],
   "source": [
    "\n",
    "# Diccionario de modelos\n",
    "modelos = {\n",
    "    \"SVM\": SVC(kernel='linear', C=1.0, random_state=42),\n",
    "    \"Random Forest\": RandomForestClassifier(n_estimators=100, random_state=42),\n",
    "    \"Logistic Regression\": LogisticRegression(max_iter=1000, random_state=42)\n",
    "}\n",
    "\n",
    "# Entrenamiento y evaluación\n",
    "for nombre, modelo in modelos.items():\n",
    "    modelo.fit(X_train_tfidf, y_train)\n",
    "    y_pred = modelo.predict(X_test_tfidf)\n",
    "\n",
    "    print(f\"=== Reporte de Clasificación - {nombre} ===\")\n",
    "    print(classification_report(y_test, y_pred))\n",
    "\n",
    "    cm = confusion_matrix(y_test, y_pred, labels=modelo.classes_)\n",
    "    disp = ConfusionMatrixDisplay(confusion_matrix=cm, display_labels=modelo.classes_)\n",
    "    disp.plot(xticks_rotation=45)\n",
    "    plt.title(f\"Matriz de Confusión - {nombre}\")\n",
    "    plt.tight_layout()\n",
    "    plt.show()\n",
    "\n",
    "    # Guardar modelo\n",
    "    joblib.dump(modelo, f\"modelo_{nombre.lower().replace(' ', '_')}.pkl\")\n",
    "\n",
    "# Guardar vectorizador\n",
    "joblib.dump(vectorizer, \"vectorizer_tfidf.pkl\")\n"
   ]
  },
  {
   "cell_type": "code",
   "execution_count": null,
   "id": "c37a3895",
   "metadata": {},
   "outputs": [],
   "source": [
    "\n",
    "# Prueba con nueva descripción\n",
    "nueva_descripcion = [\"un dispositivo mejorado para la comunicación\"]\n",
    "descripcion_proc = [preprocesar(nueva_descripcion[0])]\n",
    "nueva_tfidf = vectorizer.transform(descripcion_proc)\n",
    "\n",
    "# Cargar y probar cada modelo\n",
    "for nombre in modelos:\n",
    "    modelo_cargado = joblib.load(f\"modelo_{nombre.lower().replace(' ', '_')}.pkl\")\n",
    "    prediccion = modelo_cargado.predict(nueva_tfidf)[0]\n",
    "    print(f\"Predicción con {nombre}: {prediccion}\")\n"
   ]
  }
 ],
 "metadata": {},
 "nbformat": 4,
 "nbformat_minor": 5
}
