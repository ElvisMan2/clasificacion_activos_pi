{
  "cells": [
    {
      "cell_type": "code",
      "execution_count": 9,
      "metadata": {
        "colab": {
          "base_uri": "https://localhost:8080/"
        },
        "id": "QHfRZfMNeTaX",
        "outputId": "ee45f217-01f4-4f35-e2d5-e5211074735a"
      },
      "outputs": [
        {
          "name": "stdout",
          "output_type": "stream",
          "text": [
            "=== Reporte de Clasificación ===\n",
            "                   precision    recall  f1-score   support\n",
            "\n",
            " Derecho de Autor       1.00      0.75      0.86         8\n",
            "Diseño Industrial       1.00      1.00      1.00         7\n",
            "            Marca       1.00      1.00      1.00         9\n",
            "          Patente       0.75      1.00      0.86         6\n",
            "\n",
            "         accuracy                           0.93        30\n",
            "        macro avg       0.94      0.94      0.93        30\n",
            "     weighted avg       0.95      0.93      0.93        30\n",
            "\n"
          ]
        }
      ],
      "source": [
        "import pandas as pd\n",
        "from sklearn.model_selection import train_test_split\n",
        "from sklearn.feature_extraction.text import TfidfVectorizer\n",
        "from sklearn.ensemble import RandomForestClassifier\n",
        "from sklearn.metrics import classification_report\n",
        "\n",
        "# Leer archivo CSV\n",
        "url = 'https://raw.githubusercontent.com/ElvisMan2/clasificacion_activos_pi/main/activos_pi.csv'\n",
        "df = pd.read_csv(url)\n",
        "\n",
        "# Dividir en entrenamiento y prueba\n",
        "X_train, X_test, y_train, y_test = train_test_split(df[\"descripcion\"], df[\"categoria\"], test_size=0.3, random_state=42)\n",
        "\n",
        "# Vectorización con TF-IDF\n",
        "vectorizer = TfidfVectorizer()\n",
        "X_train_tfidf = vectorizer.fit_transform(X_train)\n",
        "X_test_tfidf = vectorizer.transform(X_test)\n",
        "\n",
        "# Modelo Random Forest\n",
        "clf = RandomForestClassifier(random_state=42)\n",
        "clf.fit(X_train_tfidf, y_train)\n",
        "\n",
        "# Predicciones\n",
        "y_pred = clf.predict(X_test_tfidf)\n",
        "\n",
        "# Resultados\n",
        "print(\"=== Reporte de Clasificación ===\")\n",
        "print(classification_report(y_test, y_pred))\n"
      ]
    },
    {
      "cell_type": "code",
      "execution_count": 10,
      "metadata": {
        "colab": {
          "base_uri": "https://localhost:8080/"
        },
        "id": "oUQs3-I6gQe_",
        "outputId": "e714f390-c8a6-4ca6-ba43-d79a98a2ef57"
      },
      "outputs": [
        {
          "name": "stdout",
          "output_type": "stream",
          "text": [
            "Descripción: Sistema que permite almacenar energía eléctrica generada por paneles solares\n",
            "Predicción de categoría: Patente\n"
          ]
        }
      ],
      "source": [
        "# Nueva descripción para probar\n",
        "nueva_descripcion = [\"Sistema que permite almacenar energía eléctrica generada por paneles solares\"]\n",
        "\n",
        "# Vectorizar y predecir\n",
        "nueva_tfidf = vectorizer.transform(nueva_descripcion)\n",
        "prediccion = clf.predict(nueva_tfidf)[0]\n",
        "\n",
        "print(\"Descripción:\", nueva_descripcion[0])\n",
        "print(\"Predicción de categoría:\", prediccion)"
      ]
    },
    {
      "cell_type": "code",
      "execution_count": 12,
      "metadata": {
        "colab": {
          "base_uri": "https://localhost:8080/"
        },
        "id": "FC0KOavwiO0P",
        "outputId": "511c41c7-dba7-4809-947e-d84ffc10a2bb"
      },
      "outputs": [
        {
          "name": "stdout",
          "output_type": "stream",
          "text": [
            "Descripción: marca para productos de aseo personal para identificar el producto\n",
            "Predicción de categoría: Marca\n"
          ]
        }
      ],
      "source": [
        "# Nueva descripción para probar\n",
        "nueva_descripcion = [\"marca para productos de aseo personal para identificar el producto\"]\n",
        "\n",
        "# Vectorizar y predecir\n",
        "nueva_tfidf = vectorizer.transform(nueva_descripcion)\n",
        "prediccion = clf.predict(nueva_tfidf)[0]\n",
        "\n",
        "print(\"Descripción:\", nueva_descripcion[0])\n",
        "print(\"Predicción de categoría:\", prediccion)"
      ]
    },
    {
      "cell_type": "code",
      "execution_count": 13,
      "metadata": {},
      "outputs": [
        {
          "name": "stdout",
          "output_type": "stream",
          "text": [
            "Descripción: un libro de un autor peruano que habla sobre la historia de la literatura peruana\n",
            "Predicción de categoría: Derecho de Autor\n"
          ]
        }
      ],
      "source": [
        "# Nueva descripción para probar\n",
        "nueva_descripcion = [\"un libro de un autor peruano que habla sobre la historia de la literatura peruana\"]\n",
        "\n",
        "# Vectorizar y predecir\n",
        "nueva_tfidf = vectorizer.transform(nueva_descripcion)\n",
        "prediccion = clf.predict(nueva_tfidf)[0]\n",
        "\n",
        "print(\"Descripción:\", nueva_descripcion[0])\n",
        "print(\"Predicción de categoría:\", prediccion)"
      ]
    }
  ],
  "metadata": {
    "colab": {
      "provenance": []
    },
    "kernelspec": {
      "display_name": "Python 3",
      "name": "python3"
    },
    "language_info": {
      "codemirror_mode": {
        "name": "ipython",
        "version": 3
      },
      "file_extension": ".py",
      "mimetype": "text/x-python",
      "name": "python",
      "nbconvert_exporter": "python",
      "pygments_lexer": "ipython3",
      "version": "3.12.6"
    }
  },
  "nbformat": 4,
  "nbformat_minor": 0
}
