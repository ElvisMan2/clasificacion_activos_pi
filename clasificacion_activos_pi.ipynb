{
  "nbformat": 4,
  "nbformat_minor": 0,
  "metadata": {
    "colab": {
      "provenance": []
    },
    "kernelspec": {
      "name": "python3",
      "display_name": "Python 3"
    },
    "language_info": {
      "name": "python"
    }
  },
  "cells": [
    {
      "cell_type": "code",
      "execution_count": 17,
      "metadata": {
        "colab": {
          "base_uri": "https://localhost:8080/"
        },
        "id": "QHfRZfMNeTaX",
        "outputId": "ee45f217-01f4-4f35-e2d5-e5211074735a"
      },
      "outputs": [
        {
          "output_type": "stream",
          "name": "stdout",
          "text": [
            "=== Reporte de Clasificación ===\n",
            "                   precision    recall  f1-score   support\n",
            "\n",
            " Derecho de Autor       1.00      1.00      1.00        72\n",
            "Diseño Industrial       1.00      1.00      1.00        75\n",
            "            Marca       1.00      1.00      1.00        78\n",
            "          Patente       1.00      1.00      1.00        75\n",
            "\n",
            "         accuracy                           1.00       300\n",
            "        macro avg       1.00      1.00      1.00       300\n",
            "     weighted avg       1.00      1.00      1.00       300\n",
            "\n"
          ]
        }
      ],
      "source": [
        "import pandas as pd\n",
        "from sklearn.model_selection import train_test_split\n",
        "from sklearn.feature_extraction.text import TfidfVectorizer\n",
        "from sklearn.ensemble import RandomForestClassifier\n",
        "from sklearn.metrics import classification_report\n",
        "\n",
        "# Leer archivo CSV\n",
        "df = pd.read_csv(\"activos_pi2.csv\")\n",
        "\n",
        "# Dividir en entrenamiento y prueba\n",
        "X_train, X_test, y_train, y_test = train_test_split(df[\"descripcion\"], df[\"categoria\"], test_size=0.3, random_state=42)\n",
        "\n",
        "# Vectorización con TF-IDF\n",
        "vectorizer = TfidfVectorizer()\n",
        "X_train_tfidf = vectorizer.fit_transform(X_train)\n",
        "X_test_tfidf = vectorizer.transform(X_test)\n",
        "\n",
        "# Modelo Random Forest\n",
        "clf = RandomForestClassifier(random_state=42)\n",
        "clf.fit(X_train_tfidf, y_train)\n",
        "\n",
        "# Predicciones\n",
        "y_pred = clf.predict(X_test_tfidf)\n",
        "\n",
        "# Resultados\n",
        "print(\"=== Reporte de Clasificación ===\")\n",
        "print(classification_report(y_test, y_pred))\n"
      ]
    },
    {
      "cell_type": "code",
      "source": [
        "# Nueva descripción para probar\n",
        "nueva_descripcion = [\"Sistema que permite almacenar energía eléctrica generada por paneles solares\"]\n",
        "\n",
        "# Vectorizar y predecir\n",
        "nueva_tfidf = vectorizer.transform(nueva_descripcion)\n",
        "prediccion = clf.predict(nueva_tfidf)[0]\n",
        "\n",
        "print(\"Descripción:\", nueva_descripcion[0])\n",
        "print(\"Predicción de categoría:\", prediccion)"
      ],
      "metadata": {
        "colab": {
          "base_uri": "https://localhost:8080/"
        },
        "id": "oUQs3-I6gQe_",
        "outputId": "e714f390-c8a6-4ca6-ba43-d79a98a2ef57"
      },
      "execution_count": 14,
      "outputs": [
        {
          "output_type": "stream",
          "name": "stdout",
          "text": [
            "Descripción: Sistema que permite almacenar energía eléctrica generada por paneles solares\n",
            "Predicción de categoría: Patente\n"
          ]
        }
      ]
    },
    {
      "cell_type": "code",
      "source": [
        "# Nueva descripción para probar\n",
        "nueva_descripcion = [\"una canción de un grupo de salsa\"]\n",
        "\n",
        "# Vectorizar y predecir\n",
        "nueva_tfidf = vectorizer.transform(nueva_descripcion)\n",
        "prediccion = clf.predict(nueva_tfidf)[0]\n",
        "\n",
        "print(\"Descripción:\", nueva_descripcion[0])\n",
        "print(\"Predicción de categoría:\", prediccion)"
      ],
      "metadata": {
        "colab": {
          "base_uri": "https://localhost:8080/"
        },
        "id": "FC0KOavwiO0P",
        "outputId": "511c41c7-dba7-4809-947e-d84ffc10a2bb"
      },
      "execution_count": 15,
      "outputs": [
        {
          "output_type": "stream",
          "name": "stdout",
          "text": [
            "Descripción: una canción de un grupo de salsa\n",
            "Predicción de categoría: Derecho de Autor\n"
          ]
        }
      ]
    },
    {
      "cell_type": "code",
      "source": [
        "from google.colab import drive\n",
        "drive.mount('/content/drive')"
      ],
      "metadata": {
        "id": "9UMOzg4bkuLA"
      },
      "execution_count": null,
      "outputs": []
    }
  ]
}