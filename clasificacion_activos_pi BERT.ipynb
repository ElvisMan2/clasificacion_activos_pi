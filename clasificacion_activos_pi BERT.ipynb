{
  "cells": [
    {
      "cell_type": "code",
      "execution_count": null,
      "metadata": {
        "colab": {
          "base_uri": "https://localhost:8080/"
        },
        "id": "QHfRZfMNeTaX",
        "outputId": "ee45f217-01f4-4f35-e2d5-e5211074735a"
      },
      "outputs": [
        {
          "name": "stdout",
          "output_type": "stream",
          "text": [
            "=== Reporte de Clasificación ===\n",
            "                    precision    recall  f1-score   support\n",
            "\n",
            "  Derecho de autor       1.00      1.00      1.00       150\n",
            "           Patente       1.00      1.00      1.00       150\n",
            "Signos distintivos       1.00      1.00      1.00       150\n",
            "\n",
            "          accuracy                           1.00       450\n",
            "         macro avg       1.00      1.00      1.00       450\n",
            "      weighted avg       1.00      1.00      1.00       450\n",
            "\n"
          ]
        }
      ],
      "source": [
        "import pandas as pd\n",
        "from sklearn.model_selection import train_test_split\n",
        "from sklearn.ensemble import RandomForestClassifier\n",
        "from sklearn.metrics import classification_report\n",
        "from sentence_transformers import SentenceTransformer\n",
        "\n",
        "# Leer archivo CSV\n",
        "url = 'https://raw.githubusercontent.com/ElvisMan2/clasificacion_activos_pi/main/activos_pi.csv'\n",
        "df = pd.read_csv(url, encoding='latin1')\n",
        "\n",
        "# Dividir en entrenamiento y prueba con estratificación\n",
        "X_train, X_test, y_train, y_test = train_test_split(\n",
        "    df[\"descripcion\"], df[\"categoria\"], test_size=0.3, random_state=42, stratify=df[\"categoria\"]\n",
        ")\n",
        "\n",
        "# Vectorización con BERT multilingüe\n",
        "model = SentenceTransformer('distiluse-base-multilingual-cased-v2')\n",
        "X_train_vec = model.encode(X_train.tolist(), convert_to_tensor=False)\n",
        "X_test_vec = model.encode(X_test.tolist(), convert_to_tensor=False)\n",
        "\n",
        "# Clasificador Random Forest\n",
        "clf = RandomForestClassifier(random_state=42)\n",
        "clf.fit(X_train_vec, y_train)\n",
        "\n",
        "# Predicciones\n",
        "y_pred = clf.predict(X_test_vec)\n",
        "\n",
        "# Resultados\n",
        "print(\"=== Reporte de Clasificación con BERT ===\")\n",
        "print(classification_report(y_test, y_pred))\n"
      ]
    },
    {
      "cell_type": "code",
      "execution_count": 30,
      "metadata": {
        "colab": {
          "base_uri": "https://localhost:8080/"
        },
        "id": "oUQs3-I6gQe_",
        "outputId": "e714f390-c8a6-4ca6-ba43-d79a98a2ef57"
      },
      "outputs": [
        {
          "name": "stdout",
          "output_type": "stream",
          "text": [
            "Descripción: Esta obra musical sinfónica explora conceptos innovadores, integrando elementos culturales, tecnológicos y artísticos. Fue creada con el objetivo de provocar reflexión y ofrecer una experiencia única al público. Utiliza técnicas contemporáneas y un enfoque interdisciplinario para destacar su originalidad y aporte creativo al ámbito intelectual.\n",
            "Predicción de categoría: Derecho de autor\n"
          ]
        }
      ],
      "source": [
        "# Nueva descripción para probar\n",
        "nueva_descripcion = [\"Esta obra musical sinfónica explora conceptos innovadores, integrando elementos culturales, tecnológicos y artísticos. Fue creada con el objetivo de provocar reflexión y ofrecer una experiencia única al público. Utiliza técnicas contemporáneas y un enfoque interdisciplinario para destacar su originalidad y aporte creativo al ámbito intelectual.\"]\n",
        "\n",
        "# Vectorizar y predecir\n",
        "nueva_tfidf = vectorizer.transform(nueva_descripcion)\n",
        "prediccion = clf.predict(nueva_tfidf)[0]\n",
        "\n",
        "print(\"Descripción:\", nueva_descripcion[0])\n",
        "print(\"Predicción de categoría:\", prediccion)"
      ]
    },
    {
      "cell_type": "code",
      "execution_count": 31,
      "metadata": {
        "colab": {
          "base_uri": "https://localhost:8080/"
        },
        "id": "FC0KOavwiO0P",
        "outputId": "511c41c7-dba7-4809-947e-d84ffc10a2bb"
      },
      "outputs": [
        {
          "name": "stdout",
          "output_type": "stream",
          "text": [
            "Descripción: UN TANQUE AISLADO TERMICAMENTE EN EL CUAL VA INSTALADO UNA PLANCHA COLECTORA QUE RECIBE LUZ SOLAR VIA UNA COBERTURA DE VIDRIO APOYADA EN RESPALDOS; b) UNA TUBERIA DE INGRESO DE AGUA CON DISPOSITIVO ROMPEDOR DE PRESION, VALVULA DE CORTE Y UNA BOYA DE NIVEL; Y c) UNA TUBERIA DE DESCARGA DE AGUA CALIENTE CON TUBERIA DE SUCCION FLEXIBLE, FLOTADOR Y VALVULA DE REGULACION. LAS TUBERIAS INGRESAN A UNA BOMBA JET QUE DESCARGA AGUA TEMPERADA, Y SUCCIONA EL AGUA CALIENTE ATMOSFERICA DEL TANQUE Y LA PRESURIZA EMPLEANDO LA ENERGIA DEL AGUA FRIA PRESURIZADA. ADEMAS, LAS VALVULAS DE REGULACION DE AGUA FRIA Y CALIENTE PUEDEN SER MANIPULADAS DE MANERA QUE LA PERDIDA DE PRESION A TRAVES DE LAS MISMAS CREE VARIACIONES EN LOS FLUJOS DE AGUA CALIENTE Y AGUA FRIA POR TANTO SE AFECTE LA RAZON DE LA MEZCLA EN LA BOMBA JET, Y COMO CONSECUENCIA LA TEMPERATURA DE DESCARGA\n",
            "Predicción de categoría: Patente\n"
          ]
        }
      ],
      "source": [
        "# Nueva descripción para probar\n",
        "nueva_descripcion = [\"UN TANQUE AISLADO TERMICAMENTE EN EL CUAL VA INSTALADO UNA PLANCHA COLECTORA QUE RECIBE LUZ SOLAR VIA UNA COBERTURA DE VIDRIO APOYADA EN RESPALDOS; b) UNA TUBERIA DE INGRESO DE AGUA CON DISPOSITIVO ROMPEDOR DE PRESION, VALVULA DE CORTE Y UNA BOYA DE NIVEL; Y c) UNA TUBERIA DE DESCARGA DE AGUA CALIENTE CON TUBERIA DE SUCCION FLEXIBLE, FLOTADOR Y VALVULA DE REGULACION. LAS TUBERIAS INGRESAN A UNA BOMBA JET QUE DESCARGA AGUA TEMPERADA, Y SUCCIONA EL AGUA CALIENTE ATMOSFERICA DEL TANQUE Y LA PRESURIZA EMPLEANDO LA ENERGIA DEL AGUA FRIA PRESURIZADA. ADEMAS, LAS VALVULAS DE REGULACION DE AGUA FRIA Y CALIENTE PUEDEN SER MANIPULADAS DE MANERA QUE LA PERDIDA DE PRESION A TRAVES DE LAS MISMAS CREE VARIACIONES EN LOS FLUJOS DE AGUA CALIENTE Y AGUA FRIA POR TANTO SE AFECTE LA RAZON DE LA MEZCLA EN LA BOMBA JET, Y COMO CONSECUENCIA LA TEMPERATURA DE DESCARGA\"]\n",
        "\n",
        "# Vectorizar y predecir\n",
        "nueva_tfidf = vectorizer.transform(nueva_descripcion)\n",
        "prediccion = clf.predict(nueva_tfidf)[0]\n",
        "\n",
        "print(\"Descripción:\", nueva_descripcion[0])\n",
        "print(\"Predicción de categoría:\", prediccion)"
      ]
    },
    {
      "cell_type": "code",
      "execution_count": 29,
      "metadata": {},
      "outputs": [
        {
          "name": "stdout",
          "output_type": "stream",
          "text": [
            "Descripción: logotipo para identificar un producto o servicio\n",
            "Predicción de categoría: Patente\n"
          ]
        }
      ],
      "source": [
        "# Nueva descripción para probar\n",
        "nueva_descripcion = [\"logotipo para identificar un producto o servicio\"]\n",
        "\n",
        "# Vectorizar y predecir\n",
        "nueva_tfidf = vectorizer.transform(nueva_descripcion)\n",
        "prediccion = clf.predict(nueva_tfidf)[0]\n",
        "\n",
        "print(\"Descripción:\", nueva_descripcion[0])\n",
        "print(\"Predicción de categoría:\", prediccion)"
      ]
    }
  ],
  "metadata": {
    "colab": {
      "provenance": []
    },
    "kernelspec": {
      "display_name": "Python 3",
      "name": "python3"
    },
    "language_info": {
      "codemirror_mode": {
        "name": "ipython",
        "version": 3
      },
      "file_extension": ".py",
      "mimetype": "text/x-python",
      "name": "python",
      "nbconvert_exporter": "python",
      "pygments_lexer": "ipython3",
      "version": "3.12.6"
    }
  },
  "nbformat": 4,
  "nbformat_minor": 0
}
